{
 "cells": [
  {
   "cell_type": "code",
   "execution_count": 98,
   "id": "e8069cf1",
   "metadata": {},
   "outputs": [
    {
     "name": "stdout",
     "output_type": "stream",
     "text": [
      "[1, 4, 9, 16, 25]\n"
     ]
    }
   ],
   "source": [
    "def square_numbers(numbers):\n",
    "    squared_numbers = []\n",
    "    for num in numbers:\n",
    "        squared_numbers.append(num ** 2)\n",
    "    return squared_numbers\n",
    "numbers = [1, 2, 3, 4, 5]\n",
    "squared_numbers = square_numbers(numbers)\n",
    "print(squared_numbers)\n"
   ]
  },
  {
   "cell_type": "code",
   "execution_count": 31,
   "id": "ecdb769e",
   "metadata": {},
   "outputs": [
    {
     "name": "stdout",
     "output_type": "stream",
     "text": [
      "['Deji', 'Eve', 'motunrayo', 'niyi', 'tope']\n"
     ]
    }
   ],
   "source": [
    "def sort_names(names):\n",
    "    sorted_names = sorted(names, key=lambda s: s.lower())\n",
    "    return sorted_names\n",
    "names = [\"Deji\", \"tope\", \"motunrayo\", \"niyi\", \"Eve\"]\n",
    "sorted_names = sort_names(names)\n",
    "print(sorted_names)\n"
   ]
  },
  {
   "cell_type": "code",
   "execution_count": 34,
   "id": "e317d684",
   "metadata": {},
   "outputs": [
    {
     "name": "stdout",
     "output_type": "stream",
     "text": [
      "{'Average': 46.8, 'Median': 56.0, 'Mode': 56}\n"
     ]
    }
   ],
   "source": [
    "from statistics import mean, median, mode\n",
    "\n",
    "def get_stats(numbers):\n",
    "    avg = mean(numbers)\n",
    "    med = median(numbers)\n",
    "    try:\n",
    "        mod = mode(numbers)\n",
    "    except StatisticsError:\n",
    "        mod = \"No mode found\"\n",
    "    stats = {\"Average\": avg, \"Median\": med, \"Mode\": mod}\n",
    "    return stats\n",
    "numbers = [20, 20, 30, 40, 56, 56, 56, 60, 60, 70]\n",
    "stats = get_stats(numbers)\n",
    "print(stats)  \n"
   ]
  },
  {
   "cell_type": "code",
   "execution_count": 35,
   "id": "84c00123",
   "metadata": {},
   "outputs": [
    {
     "name": "stdout",
     "output_type": "stream",
     "text": [
      "{'h': 1, 'e': 1, 'l': 3, 'o': 2, 'w': 1, 'r': 1, 'd': 1}\n"
     ]
    }
   ],
   "source": [
    "def count_chars(strings):\n",
    "    char_freq = {}\n",
    "    for string in strings:\n",
    "        for char in string:\n",
    "            if char in char_freq:\n",
    "                char_freq[char] += 1\n",
    "            else:\n",
    "                char_freq[char] = 1\n",
    "    return char_freq\n",
    "strings = [\"hello\", \"world\"]\n",
    "char_freq = count_chars(strings)\n",
    "print(char_freq) \n"
   ]
  },
  {
   "cell_type": "code",
   "execution_count": 36,
   "id": "c529e056",
   "metadata": {},
   "outputs": [
    {
     "name": "stdout",
     "output_type": "stream",
     "text": [
      "['anaconda']\n"
     ]
    }
   ],
   "source": [
    "def longest_strings(strings):\n",
    "    longest = []\n",
    "    max_len = 0\n",
    "    for string in strings:\n",
    "        if len(string) > max_len:\n",
    "            longest = [string]\n",
    "            max_len = len(string)\n",
    "        elif len(string) == max_len:\n",
    "            longest.append(string)\n",
    "    return longest\n",
    "strings = [\"hello\", \"world\", \"food\", \"tod\", \"anaconda\"]\n",
    "longest = longest_strings(strings)\n",
    "print(longest) \n"
   ]
  },
  {
   "cell_type": "code",
   "execution_count": 37,
   "id": "1bce74f2",
   "metadata": {},
   "outputs": [
    {
     "name": "stdout",
     "output_type": "stream",
     "text": [
      "[100, 225, 400, 625, 900]\n"
     ]
    }
   ],
   "source": [
    "def apply_function(numbers, func):\n",
    "    results = []\n",
    "    for number in numbers:\n",
    "        result = func(number)\n",
    "        results.append(result)\n",
    "    return results\n",
    "numbers = [10, 15, 20, 25, 30]\n",
    "func = lambda x: x ** 2\n",
    "results = apply_function(numbers, func)\n",
    "print(results)\n"
   ]
  },
  {
   "cell_type": "code",
   "execution_count": 38,
   "id": "54b62255",
   "metadata": {},
   "outputs": [
    {
     "name": "stdout",
     "output_type": "stream",
     "text": [
      "[('t', 1), ('b', 2), ('r', 3), ('s', 5)]\n"
     ]
    }
   ],
   "source": [
    "def sort_tuples_by_second(tuples):\n",
    "\n",
    "    return sorted(tuples, key=lambda x: x[1])\n",
    "tuples = [(\"r\", 3), (\"t\", 1), (\"s\", 5), (\"b\", 2)]\n",
    "sorted_tuples = sort_tuples_by_second(tuples)\n",
    "print(sorted_tuples)\n"
   ]
  },
  {
   "cell_type": "code",
   "execution_count": 42,
   "id": "69469e6c",
   "metadata": {},
   "outputs": [
    {
     "name": "stdout",
     "output_type": "stream",
     "text": [
      "[{'name': 'deji', 'age': 35}, {'name': 'samuel', 'age': 40}, {'name': 'oluwatobiloba', 'age': 55}]\n"
     ]
    }
   ],
   "source": [
    "def sort_dicts_by_key(dicts, key):\n",
    "    return sorted(dicts, key=lambda x: x[key])\n",
    "dicts = [{\"name\": \"samuel\", \"age\": 40}, {\"name\": \"deji\", \"age\": 35}, {\"name\": \"oluwatobiloba\", \"age\": 55}]\n",
    "sorted_dicts = sort_dicts_by_key(dicts, \"age\")\n",
    "print(sorted_dicts)\n"
   ]
  },
  {
   "cell_type": "code",
   "execution_count": 92,
   "id": "ce03208a",
   "metadata": {},
   "outputs": [
    {
     "name": "stdout",
     "output_type": "stream",
     "text": [
      "[2, 4]\n"
     ]
    }
   ],
   "source": [
    "def even_numbers(numbers):\n",
    "    even_numbers = []\n",
    "    for num in numbers:\n",
    "        if num%2==0:\n",
    "            even_numbers.append(num)\n",
    "    return even_numbers\n",
    "numbers = [1, 2, 3, 4, 5]\n",
    "even_numbers=even_numbers(numbers)\n",
    "print(even_numbers)\n"
   ]
  },
  {
   "cell_type": "code",
   "execution_count": 95,
   "id": "b68f614e",
   "metadata": {},
   "outputs": [
    {
     "name": "stdout",
     "output_type": "stream",
     "text": [
      "<function strings_character at 0x000000078B3BFEE0>\n"
     ]
    }
   ],
   "source": [
    "def strings_character(strings_list,char):\n",
    "    result=[]\n",
    "    for string in strings_list:\n",
    "        if char in string:\n",
    "            result.append(string)\n",
    "    return result\n",
    "strings_list = [\"hello\", \"world\", \"food\", \"anaconda\"]\n",
    "char= \"o\"\n",
    "result = strings_character(strings_list,char)\n",
    "print(strings_character) "
   ]
  },
  {
   "cell_type": "code",
   "execution_count": null,
   "id": "41d9d273",
   "metadata": {},
   "outputs": [],
   "source": []
  },
  {
   "cell_type": "code",
   "execution_count": null,
   "id": "15511cd8",
   "metadata": {},
   "outputs": [],
   "source": []
  }
 ],
 "metadata": {
  "kernelspec": {
   "display_name": "Python 3 (ipykernel)",
   "language": "python",
   "name": "python3"
  },
  "language_info": {
   "codemirror_mode": {
    "name": "ipython",
    "version": 3
   },
   "file_extension": ".py",
   "mimetype": "text/x-python",
   "name": "python",
   "nbconvert_exporter": "python",
   "pygments_lexer": "ipython3",
   "version": "3.9.7"
  }
 },
 "nbformat": 4,
 "nbformat_minor": 5
}
